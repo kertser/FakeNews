{
 "cells": [
  {
   "cell_type": "markdown",
   "source": [
    "The general idea is to create an NLP model to classify Fake News by means of sentence emotional analysis\n",
    "The task-list shall be as following:\n",
    "1. Connect to the DB with  (in this stage we will take the data from files), containing a corpus of texts with fake news. All the news shall be marked as fake or not fake. It may be non-modal (i.e.: probabilistic)\n",
    "2. Prepare the corpus by means of sentence embeddings -> hash -> emotion vector.\n",
    "* remark: we need to define an emotion vector. It cannot be just \"angry\" or \"fun\"\n",
    "3. Each article will be converted to a set of such vectors, representing the emotional span of the article body (drop the title? may-be)\n",
    "4. Classifier will take a set of these vectors and produce a prediction of \"fake/no-fake\" in a probabilistic way.\n",
    "In some point one can train a GAN to generate the fake news with emotional load, considerable to mimic the actual \"fake news\", but not as a beginning"
   ],
   "metadata": {
    "collapsed": false,
    "pycharm": {
     "name": "#%% md\n"
    }
   }
  },
  {
   "cell_type": "markdown",
   "source": [
    "Good source for NLP modeling and FN analysis:\n",
    "https://www.kaggle.com/code/ohseokkim/fake-news-easy-nlp-text-classification"
   ],
   "metadata": {
    "collapsed": false,
    "pycharm": {
     "name": "#%% md\n"
    }
   }
  },
  {
   "cell_type": "code",
   "execution_count": 2,
   "metadata": {
    "collapsed": true,
    "pycharm": {
     "name": "#%%\n"
    }
   },
   "outputs": [],
   "source": [
    "# Dependencies\n",
    "import numpy as np # linear algebra\n",
    "import pandas as pd # data processing\n",
    "import pycaret # machine learning automation\n",
    "import explainerdashboard # Evaluating the data in terms of visualization\n",
    "\n",
    "import plotly.express as px\n",
    "from plotly.subplots import make_subplots\n",
    "import plotly.graph_objects as go\n",
    "\n",
    "import seaborn as sns\n",
    "import matplotlib.pyplot as plt\n",
    "from matplotlib import rcParams\n",
    "\n",
    "# May be installed later-on\n",
    "#!python -m spacy download en_core_web_sm\n",
    "#!python -m textblob.download_corpora"
   ]
  },
  {
   "cell_type": "code",
   "execution_count": null,
   "outputs": [],
   "source": [
    "# Some additional actions\n",
    "import warnings\n",
    "warnings.filterwarnings(action='ignore')"
   ],
   "metadata": {
    "collapsed": false,
    "pycharm": {
     "name": "#%%\n"
    }
   }
  },
  {
   "cell_type": "code",
   "execution_count": null,
   "outputs": [],
   "source": [
    "# Data"
   ],
   "metadata": {
    "collapsed": false,
    "pycharm": {
     "name": "#%%\n"
    }
   }
  }
 ],
 "metadata": {
  "kernelspec": {
   "display_name": "Python 3",
   "language": "python",
   "name": "python3"
  },
  "language_info": {
   "codemirror_mode": {
    "name": "ipython",
    "version": 2
   },
   "file_extension": ".py",
   "mimetype": "text/x-python",
   "name": "python",
   "nbconvert_exporter": "python",
   "pygments_lexer": "ipython2",
   "version": "2.7.6"
  }
 },
 "nbformat": 4,
 "nbformat_minor": 0
}